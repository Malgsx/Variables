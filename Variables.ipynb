{
 "cells": [
  {
   "cell_type": "markdown",
   "id": "4629f9c6",
   "metadata": {},
   "source": [
    "# Basics on Variables"
   ]
  },
  {
   "cell_type": "code",
   "execution_count": 19,
   "id": "f92860f7",
   "metadata": {},
   "outputs": [
    {
     "name": "stdout",
     "output_type": "stream",
     "text": [
      "1\n"
     ]
    }
   ],
   "source": [
    "x = 1\n",
    "print(x)"
   ]
  },
  {
   "cell_type": "code",
   "execution_count": 6,
   "id": "8e743380",
   "metadata": {},
   "outputs": [
    {
     "data": {
      "text/plain": [
       "int"
      ]
     },
     "execution_count": 6,
     "metadata": {},
     "output_type": "execute_result"
    }
   ],
   "source": [
    "type(x)"
   ]
  },
  {
   "cell_type": "code",
   "execution_count": 20,
   "id": "40ce700f",
   "metadata": {},
   "outputs": [
    {
     "name": "stdout",
     "output_type": "stream",
     "text": [
      "Testing\n"
     ]
    }
   ],
   "source": [
    "y = 'Testing'\n",
    "print(y)"
   ]
  },
  {
   "cell_type": "code",
   "execution_count": 13,
   "id": "560d0ea0",
   "metadata": {},
   "outputs": [
    {
     "data": {
      "text/plain": [
       "str"
      ]
     },
     "execution_count": 13,
     "metadata": {},
     "output_type": "execute_result"
    }
   ],
   "source": [
    "type(y)"
   ]
  },
  {
   "cell_type": "code",
   "execution_count": 21,
   "id": "2d31b30b",
   "metadata": {},
   "outputs": [
    {
     "name": "stdout",
     "output_type": "stream",
     "text": [
      "Test Testing Tester\n"
     ]
    }
   ],
   "source": [
    "a,b,c = 'Test', 'Testing', 'Tester'\n",
    "print(a,b,c)"
   ]
  },
  {
   "cell_type": "code",
   "execution_count": 22,
   "id": "65d01dea",
   "metadata": {},
   "outputs": [
    {
     "name": "stdout",
     "output_type": "stream",
     "text": [
      "Test Testing Tester\n"
     ]
    }
   ],
   "source": [
    "Testing = ['Test', 'Testing', 'Tester']\n",
    "\n",
    "print(a,b,c)"
   ]
  },
  {
   "cell_type": "markdown",
   "id": "1bdc2823",
   "metadata": {},
   "source": [
    "# Naming variables and other tips."
   ]
  },
  {
   "cell_type": "code",
   "execution_count": 18,
   "id": "9fd2fe7c",
   "metadata": {},
   "outputs": [
    {
     "name": "stdout",
     "output_type": "stream",
     "text": [
      "Test\n"
     ]
    }
   ],
   "source": [
    "#Snake Case\n",
    "\n",
    "test_snake_case = 'Test'\n",
    "\n",
    "print(test_snake_case)"
   ]
  },
  {
   "cell_type": "code",
   "execution_count": 23,
   "id": "059c09f5",
   "metadata": {},
   "outputs": [
    {
     "name": "stdout",
     "output_type": "stream",
     "text": [
      "We will be writing different variables and testing those using Jupyter.\n"
     ]
    }
   ],
   "source": [
    "x = 'We will be writing different variables and testing those using Jupyter' + '.'\n",
    "\n",
    "print(x)"
   ]
  },
  {
   "cell_type": "code",
   "execution_count": 24,
   "id": "ea228db6",
   "metadata": {},
   "outputs": [
    {
     "name": "stdout",
     "output_type": "stream",
     "text": [
      "This will also be recorded on Loom so that you can see step by step the data that is entered.\n"
     ]
    }
   ],
   "source": [
    "x = 'This will also be recorded on Loom'\n",
    "y =  'so that you can see step by step the data that is entered.'\n",
    "\n",
    "print(x,y)"
   ]
  },
  {
   "cell_type": "code",
   "execution_count": null,
   "id": "6097c8c7",
   "metadata": {},
   "outputs": [],
   "source": []
  }
 ],
 "metadata": {
  "kernelspec": {
   "display_name": "Python 3 (ipykernel)",
   "language": "python",
   "name": "python3"
  },
  "language_info": {
   "codemirror_mode": {
    "name": "ipython",
    "version": 3
   },
   "file_extension": ".py",
   "mimetype": "text/x-python",
   "name": "python",
   "nbconvert_exporter": "python",
   "pygments_lexer": "ipython3",
   "version": "3.9.13"
  }
 },
 "nbformat": 4,
 "nbformat_minor": 5
}
